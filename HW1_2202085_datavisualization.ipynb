{
  "nbformat": 4,
  "nbformat_minor": 0,
  "metadata": {
    "colab": {
      "provenance": []
    },
    "kernelspec": {
      "name": "python3",
      "display_name": "Python 3"
    },
    "language_info": {
      "name": "python"
    }
  },
  "cells": [
    {
      "cell_type": "code",
      "execution_count": 1,
      "metadata": {
        "id": "lIAtRQq1CiJh"
      },
      "outputs": [],
      "source": [
        "from datascience import *\n",
        "import numpy as np\n",
        "import matplotlib\n",
        "matplotlib.use('Agg')\n",
        "%matplotlib inline\n",
        "import matplotlib.pyplot as plots\n",
        "plots.style.use('fivethirtyeight')"
      ]
    },
    {
      "cell_type": "markdown",
      "source": [
        "Tạo dữ liệu bảng"
      ],
      "metadata": {
        "id": "7ZszFRyS6NC6"
      }
    },
    {
      "cell_type": "code",
      "source": [
        "ds = Table().with_columns(\"Ho va Ten\", make_array(\"Le Thi Ngheo\", \"Tran Van Kha\", \"Do Van Tam\", \"Nguyen Thi Binh\", \"Vo Van Giau\", \"Ly Thieu An\"), \"Tuoi\", make_array(17, 98, 52, 34, 62, 50), \"So Du (VND)\", make_array(4.567E+5, 3.456E+7, 2.345E+6, 1.23E+7, 5.678E+9, 1.2e3))\n",
        "ds.show()"
      ],
      "metadata": {
        "colab": {
          "base_uri": "https://localhost:8080/",
          "height": 238
        },
        "id": "QrIJVIc6Cttd",
        "outputId": "9172c8a2-da3b-42d2-ad0b-5cf1981a191e"
      },
      "execution_count": 3,
      "outputs": [
        {
          "output_type": "display_data",
          "data": {
            "text/plain": [
              "<IPython.core.display.HTML object>"
            ],
            "text/html": [
              "<table border=\"1\" class=\"dataframe\">\n",
              "    <thead>\n",
              "        <tr>\n",
              "            <th>Ho va Ten</th> <th>Tuoi</th> <th>So Du (VND)</th>\n",
              "        </tr>\n",
              "    </thead>\n",
              "    <tbody>\n",
              "        <tr>\n",
              "            <td>Le Thi Ngheo   </td> <td>17  </td> <td>456700     </td>\n",
              "        </tr>\n",
              "        <tr>\n",
              "            <td>Tran Van Kha   </td> <td>98  </td> <td>3.456e+07  </td>\n",
              "        </tr>\n",
              "        <tr>\n",
              "            <td>Do Van Tam     </td> <td>52  </td> <td>2.345e+06  </td>\n",
              "        </tr>\n",
              "        <tr>\n",
              "            <td>Nguyen Thi Binh</td> <td>34  </td> <td>1.23e+07   </td>\n",
              "        </tr>\n",
              "        <tr>\n",
              "            <td>Vo Van Giau    </td> <td>62  </td> <td>5.678e+09  </td>\n",
              "        </tr>\n",
              "        <tr>\n",
              "            <td>Ly Thieu An    </td> <td>50  </td> <td>1200       </td>\n",
              "        </tr>\n",
              "    </tbody>\n",
              "</table>"
            ]
          },
          "metadata": {}
        }
      ]
    },
    {
      "cell_type": "markdown",
      "source": [
        "Chuyển đổi Số Dư"
      ],
      "metadata": {
        "id": "Sfy9Su0Y6WNx"
      }
    },
    {
      "cell_type": "code",
      "source": [
        "# Chuyển đổi các giá trị trong cột \"So Du (VND)\" thành số đầy đủ\n",
        "vnd = ds.apply(lambda x: \"{:,.2f}\".format(x), \"So Du (VND)\")\n",
        "\n",
        "# Thay thế cột \"So Du (VND)\" bằng dữ liệu mới\n",
        "ds = ds.with_column(\"So Du (VND)\", vnd)\n",
        "\n",
        "# Hiển thị bảng với dữ liệu đã được thay đổi\n",
        "ds.show()\n"
      ],
      "metadata": {
        "colab": {
          "base_uri": "https://localhost:8080/",
          "height": 237
        },
        "id": "cGLbWpwRLKeE",
        "outputId": "a9954548-96cd-4f08-f241-adfcf6be73fc"
      },
      "execution_count": null,
      "outputs": [
        {
          "output_type": "display_data",
          "data": {
            "text/plain": [
              "<IPython.core.display.HTML object>"
            ],
            "text/html": [
              "<table border=\"1\" class=\"dataframe\">\n",
              "    <thead>\n",
              "        <tr>\n",
              "            <th>Ho va Ten</th> <th>Tuoi</th> <th>So Du (VND)</th>\n",
              "        </tr>\n",
              "    </thead>\n",
              "    <tbody>\n",
              "        <tr>\n",
              "            <td>Le Thi Ngheo   </td> <td>17  </td> <td>456,700.00      </td>\n",
              "        </tr>\n",
              "        <tr>\n",
              "            <td>Tran Van Kha   </td> <td>98  </td> <td>34,560,000.00   </td>\n",
              "        </tr>\n",
              "        <tr>\n",
              "            <td>Do Van Tam     </td> <td>52  </td> <td>2,345,000.00    </td>\n",
              "        </tr>\n",
              "        <tr>\n",
              "            <td>Nguyen Thi Binh</td> <td>34  </td> <td>12,300,000.00   </td>\n",
              "        </tr>\n",
              "        <tr>\n",
              "            <td>Vo Van Giau    </td> <td>62  </td> <td>5,678,000,000.00</td>\n",
              "        </tr>\n",
              "        <tr>\n",
              "            <td>Ly Thieu An    </td> <td>50  </td> <td>1,200.00        </td>\n",
              "        </tr>\n",
              "    </tbody>\n",
              "</table>"
            ]
          },
          "metadata": {}
        }
      ]
    },
    {
      "cell_type": "markdown",
      "source": [
        "Sắp xếp họ và tên theo tên\n"
      ],
      "metadata": {
        "id": "KYHmJ1dL8RNl"
      }
    },
    {
      "cell_type": "code",
      "source": [
        "#tách tên trong cột Ho va Ten để lấy danh sách tên\n",
        "ds_ten = ds.apply(lambda x: x.split()[-1],\"Ho va Ten\")\n",
        "#tạo thêm cột Ten rtừ ds Ten\n",
        "ds = ds.with_column(\"Ten\", ds_ten)\n",
        "#sắp xếp bảng theo tên\n",
        "ds_sorted = ds.sort(\"Ten\").drop(\"Ten\")\n",
        "ds_sorted"
      ],
      "metadata": {
        "colab": {
          "base_uri": "https://localhost:8080/",
          "height": 237
        },
        "id": "Wb0zQpZoC3vM",
        "outputId": "833c300b-c5d1-4fb2-dfa1-f005f1d8cf09"
      },
      "execution_count": null,
      "outputs": [
        {
          "output_type": "execute_result",
          "data": {
            "text/plain": [
              "Ho va Ten       | Tuoi | So Du (VND)\n",
              "Ly Thieu An     | 50   | 1,200.00\n",
              "Nguyen Thi Binh | 34   | 12,300,000.00\n",
              "Vo Van Giau     | 62   | 5,678,000,000.00\n",
              "Tran Van Kha    | 98   | 34,560,000.00\n",
              "Le Thi Ngheo    | 17   | 456,700.00\n",
              "Do Van Tam      | 52   | 2,345,000.00"
            ],
            "text/html": [
              "<table border=\"1\" class=\"dataframe\">\n",
              "    <thead>\n",
              "        <tr>\n",
              "            <th>Ho va Ten</th> <th>Tuoi</th> <th>So Du (VND)</th>\n",
              "        </tr>\n",
              "    </thead>\n",
              "    <tbody>\n",
              "        <tr>\n",
              "            <td>Ly Thieu An    </td> <td>50  </td> <td>1,200.00        </td>\n",
              "        </tr>\n",
              "        <tr>\n",
              "            <td>Nguyen Thi Binh</td> <td>34  </td> <td>12,300,000.00   </td>\n",
              "        </tr>\n",
              "        <tr>\n",
              "            <td>Vo Van Giau    </td> <td>62  </td> <td>5,678,000,000.00</td>\n",
              "        </tr>\n",
              "        <tr>\n",
              "            <td>Tran Van Kha   </td> <td>98  </td> <td>34,560,000.00   </td>\n",
              "        </tr>\n",
              "        <tr>\n",
              "            <td>Le Thi Ngheo   </td> <td>17  </td> <td>456,700.00      </td>\n",
              "        </tr>\n",
              "        <tr>\n",
              "            <td>Do Van Tam     </td> <td>52  </td> <td>2,345,000.00    </td>\n",
              "        </tr>\n",
              "    </tbody>\n",
              "</table>"
            ]
          },
          "metadata": {},
          "execution_count": 12
        }
      ]
    },
    {
      "cell_type": "markdown",
      "source": [
        "viết một hàm xử lí phần họ và tên thành viết tắt."
      ],
      "metadata": {
        "id": "hz0JrZS1DFAM"
      }
    },
    {
      "cell_type": "code",
      "source": [
        "\n",
        "def Ho_va_Ten(Ho_va_Ten):\n",
        "  parts = Ho_va_Ten.split()\n",
        "  ho_dem = parts[:-1]\n",
        "  ten = parts[-1]\n",
        "  viet_tat = \".\".join([part[0] for part in ho_dem])\n",
        "  return viet_tat + \".\" + ten\n",
        "ds_viet_tat = ds_sorted.apply(Ho_va_Ten,\"Ho va Ten\")\n",
        "ds_sorted = ds_sorted.with_column(\"Ho va Ten\",ds_viet_tat)\n",
        "ds_sorted"
      ],
      "metadata": {
        "colab": {
          "base_uri": "https://localhost:8080/",
          "height": 237
        },
        "id": "GR4bzQIuLdYY",
        "outputId": "ca1e0438-e3d9-4f40-9efd-01e2e169b38f"
      },
      "execution_count": null,
      "outputs": [
        {
          "output_type": "execute_result",
          "data": {
            "text/plain": [
              "Ho va Ten | Tuoi | So Du (VND)\n",
              "L.T.An    | 50   | 1,200.00\n",
              "N.T.Binh  | 34   | 12,300,000.00\n",
              "V.V.Giau  | 62   | 5,678,000,000.00\n",
              "T.V.Kha   | 98   | 34,560,000.00\n",
              "L.T.Ngheo | 17   | 456,700.00\n",
              "D.V.Tam   | 52   | 2,345,000.00"
            ],
            "text/html": [
              "<table border=\"1\" class=\"dataframe\">\n",
              "    <thead>\n",
              "        <tr>\n",
              "            <th>Ho va Ten</th> <th>Tuoi</th> <th>So Du (VND)</th>\n",
              "        </tr>\n",
              "    </thead>\n",
              "    <tbody>\n",
              "        <tr>\n",
              "            <td>L.T.An   </td> <td>50  </td> <td>1,200.00        </td>\n",
              "        </tr>\n",
              "        <tr>\n",
              "            <td>N.T.Binh </td> <td>34  </td> <td>12,300,000.00   </td>\n",
              "        </tr>\n",
              "        <tr>\n",
              "            <td>V.V.Giau </td> <td>62  </td> <td>5,678,000,000.00</td>\n",
              "        </tr>\n",
              "        <tr>\n",
              "            <td>T.V.Kha  </td> <td>98  </td> <td>34,560,000.00   </td>\n",
              "        </tr>\n",
              "        <tr>\n",
              "            <td>L.T.Ngheo</td> <td>17  </td> <td>456,700.00      </td>\n",
              "        </tr>\n",
              "        <tr>\n",
              "            <td>D.V.Tam  </td> <td>52  </td> <td>2,345,000.00    </td>\n",
              "        </tr>\n",
              "    </tbody>\n",
              "</table>"
            ]
          },
          "metadata": {},
          "execution_count": 13
        }
      ]
    }
  ]
}